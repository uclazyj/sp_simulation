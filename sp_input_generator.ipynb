{
 "cells": [
  {
   "cell_type": "markdown",
   "metadata": {},
   "source": [
    "# This file initialize longtudinal plasma density profile (s,fs) and raw beam particles data $(x,p_x,y,p_y,\\gamma)$"
   ]
  },
  {
   "cell_type": "code",
   "execution_count": null,
   "metadata": {},
   "outputs": [],
   "source": [
    "import numpy as np\n",
    "import matplotlib.pyplot as plt\n",
    "from scipy import interpolate\n",
    "from utils import *\n",
    "\n",
    "%load_ext autoreload\n",
    "%autoreload 2\n",
    "\n",
    "plt.rcParams.update({'font.size': 20})"
   ]
  },
  {
   "cell_type": "markdown",
   "metadata": {},
   "source": [
    "# Initialize longitudinal plasma density profile: s,fs"
   ]
  },
  {
   "cell_type": "markdown",
   "metadata": {},
   "source": [
    "### Generate density upramp"
   ]
  },
  {
   "cell_type": "code",
   "execution_count": null,
   "metadata": {},
   "outputs": [],
   "source": [
    "\"\"\"\n",
    "# FACET-II parameters\n",
    "L_ramp = 15000\n",
    "n_entrance_over_n0 = 0.01\n",
    "beta_m0 = 200 # Matched beta at the density plateau\n",
    "\n",
    "s = np.linspace(0,L_ramp,15001)\n",
    "fs = new_smooth_upramp(s,beta_m0,L_ramp,n_entrance_over_n0)\n",
    "\"\"\"\n",
    "\n",
    "# LC parameters\n",
    "alpha_mi = 1\n",
    "n_entrance_over_n0 = 0.0001\n",
    "beta_m0 = np.sqrt(2 * 48786)\n",
    "\n",
    "# s,fs,alpha_mi = smooth_upramp(beta_m0 = beta_m0,n_entrance_over_n0 = n_entrance_over_n0,alpha_mi=alpha_mi)\n",
    "s,fs,alpha_mi = xinlu_upramp(beta_m0,n_entrance_over_n0,L_ramp=None,alpha_mi = alpha_mi)\n",
    "    \n",
    "\"\"\"\n",
    "alpha_mi = 0.1\n",
    "n_entrance_over_n0 = 0.01\n",
    "beta_m0 = 200 # Matched beta at the density plateau\n",
    "\n",
    "s,fs,alpha_mi = smooth_upramp(beta_m0 = beta_m0,n_entrance_over_n0 = n_entrance_over_n0,alpha_mi=alpha_mi)\n",
    "\"\"\"\n",
    "L_upramp = s[-1]\n",
    "print('L_ramp =',L_upramp)"
   ]
  },
  {
   "cell_type": "code",
   "execution_count": null,
   "metadata": {},
   "outputs": [],
   "source": [
    "plt.plot(s,fs)\n",
    "plt.xlabel(r'$z\\;\\;(c/\\omega_{p0})$')\n",
    "plt.ylabel('$n(z)/n_0$')\n",
    "plt.title('Plasma density profile')\n",
    "plt.show()"
   ]
  },
  {
   "cell_type": "markdown",
   "metadata": {},
   "source": [
    "### Trim the ramp"
   ]
  },
  {
   "cell_type": "code",
   "execution_count": null,
   "metadata": {},
   "outputs": [],
   "source": [
    "s_cut = 2000"
   ]
  },
  {
   "cell_type": "code",
   "execution_count": null,
   "metadata": {},
   "outputs": [],
   "source": [
    "# This function only keeps the portion where s <= s_cut\n",
    "def trim(s,fs,s_cut):\n",
    "    assert(len(s) == len(fs))\n",
    "    if s_cut < s[0]:\n",
    "        return np.array([]),np.array([])\n",
    "    elif s_cut >= s[-1]:\n",
    "        return s,fs\n",
    "    for i in range(len(s)):\n",
    "        if s[i] > s_cut:\n",
    "            return s[:i],fs[:i]\n",
    "s,fs = trim(s,fs,s_cut)\n",
    "plt.plot(s,fs)\n",
    "plt.xlabel(r'$z\\;\\;(c/\\omega_{p0})$')\n",
    "plt.ylabel('$n(z)/n_0$')\n",
    "plt.title('Plasma density profile')\n",
    "plt.show()"
   ]
  },
  {
   "cell_type": "markdown",
   "metadata": {},
   "source": [
    "### Add a density downramp"
   ]
  },
  {
   "cell_type": "code",
   "execution_count": null,
   "metadata": {},
   "outputs": [],
   "source": [
    "L_plateau = 20000\n",
    "beta_m0_downramp = np.sqrt(1) * beta_m0"
   ]
  },
  {
   "cell_type": "code",
   "execution_count": null,
   "metadata": {},
   "outputs": [],
   "source": [
    "n_exit_over_n0 = 0.0001\n",
    "s_downramp,fs_downramp,alpha_mi = xinlu_upramp(beta_m0 = beta_m0_downramp,n_entrance_over_n0 = n_exit_over_n0,alpha_mi=alpha_mi)\n",
    "s_downramp = s_downramp + L_upramp + L_plateau\n",
    "fs_downramp = fs_downramp[::-1]\n",
    "\n",
    "\n",
    "# # Add a symmetric downramp\n",
    "s = np.append(s,s_downramp)\n",
    "fs = np.append(fs,fs_downramp)\n",
    "\n",
    "plt.plot(s,fs)\n",
    "plt.xlabel(r'$z\\;\\;(c/\\omega_{p0})$')\n",
    "plt.ylabel('$n(z)/n_0$')\n",
    "plt.title('Plasma density profile')\n",
    "plt.show()\n",
    "\n",
    "print('The total plasma length is:',s[-1])"
   ]
  },
  {
   "cell_type": "markdown",
   "metadata": {},
   "source": [
    "### Add a uniform plasma region at the beginning and in the end"
   ]
  },
  {
   "cell_type": "code",
   "execution_count": null,
   "metadata": {},
   "outputs": [],
   "source": [
    "L_uniform = 15000"
   ]
  },
  {
   "cell_type": "code",
   "execution_count": null,
   "metadata": {},
   "outputs": [],
   "source": [
    "s = np.append(0,s+L_uniform)\n",
    "s = np.append(s,s[-1]+L_uniform)\n",
    "fs = np.append(fs[0],fs)\n",
    "fs = np.append(fs,fs[-1])\n",
    "\n",
    "plt.plot(s,fs)\n",
    "plt.xlabel(r'$z\\;\\;(c/\\omega_{p0})$')\n",
    "plt.ylabel('$n(z)/n_0$')\n",
    "plt.title('Plasma density profile')\n",
    "plt.show()"
   ]
  },
  {
   "cell_type": "markdown",
   "metadata": {},
   "source": [
    "### Load s,fs from QPAD input file"
   ]
  },
  {
   "cell_type": "code",
   "execution_count": null,
   "metadata": {},
   "outputs": [],
   "source": [
    "qpinput_path = '../qpinput.json'\n",
    "qpinput = load_json_file(qpinput_path)\n",
    "s = qpinput['species'][0]['piecewise_s']\n",
    "fs = qpinput['species'][0]['piecewise_fs']"
   ]
  },
  {
   "cell_type": "markdown",
   "metadata": {},
   "source": [
    "### Manually setting s, fs"
   ]
  },
  {
   "cell_type": "code",
   "execution_count": null,
   "metadata": {},
   "outputs": [],
   "source": [
    "s = [0,10000]\n",
    "fs = [1,1]\n",
    "\n",
    "plt.plot(s,fs)\n",
    "plt.xlabel(r'$z\\;\\;(c/\\omega_{p0})$')\n",
    "plt.ylabel('$n(z)/n_0$')\n",
    "plt.title('Plasma density profile')\n",
    "plt.show()"
   ]
  },
  {
   "cell_type": "markdown",
   "metadata": {},
   "source": [
    "### Save s,fs to input file"
   ]
  },
  {
   "cell_type": "code",
   "execution_count": null,
   "metadata": {},
   "outputs": [],
   "source": [
    "save_s_fs(s,fs,path = 'sp_input.json')"
   ]
  },
  {
   "cell_type": "markdown",
   "metadata": {},
   "source": [
    "### Sanity check: Plot s,fs from input file"
   ]
  },
  {
   "cell_type": "code",
   "execution_count": null,
   "metadata": {},
   "outputs": [],
   "source": [
    "plot_s_fs_input(path = 'sp_input.json')"
   ]
  },
  {
   "cell_type": "markdown",
   "metadata": {},
   "source": [
    "# Initialize beam particles' coordinates: $(x,p_x,y,p_y,\\gamma)$"
   ]
  },
  {
   "cell_type": "markdown",
   "metadata": {},
   "source": [
    "### Method 1: Initializing beam particles using Twiss parameters"
   ]
  },
  {
   "cell_type": "code",
   "execution_count": null,
   "metadata": {},
   "outputs": [],
   "source": [
    "\"\"\"\n",
    "# FACET-II parameters\n",
    "alpha_i = 0.0\n",
    "beta_i = 2000\n",
    "emittance = 0.0594\n",
    "gamma_mean = 20000\n",
    "energy_spread = 0.02\n",
    "N = 10000\n",
    "x,px = Twiss_para_init(alpha_i,beta_i,emittance,gamma_mean,N)\n",
    "gamma = np.random.normal(gamma_mean, energy_spread * gamma_mean, N)\n",
    "\"\"\"\n",
    "\n",
    "# LC parameters\n",
    "alpha_i = 1\n",
    "beta_i = 100 * beta_m0\n",
    "emittance = 0.00594\n",
    "gamma_mean = 48786\n",
    "energy_spread = 0.0\n",
    "N = 100\n",
    "x,px = Twiss_para_init(alpha_i,beta_i,emittance,gamma_mean,N)\n",
    "gamma = np.random.normal(gamma_mean, energy_spread * gamma_mean, N)"
   ]
  },
  {
   "cell_type": "code",
   "execution_count": null,
   "metadata": {},
   "outputs": [],
   "source": [
    "# some auxiliary calculation\n",
    "beta_m0 = np.sqrt(2 * gamma_mean) # matched beta at density plateau\n",
    "beta_mi = beta_m0 / np.sqrt(n_entrance_over_n0)\n",
    "sigma_mi = np.sqrt(beta_i * emittance / gamma_mean)"
   ]
  },
  {
   "cell_type": "markdown",
   "metadata": {},
   "source": [
    "### Method 2: Initialize phase space rings\n",
    "$$x = x_0 \\sin(k_\\beta z)$$\n",
    "$$p_x = \\gamma x' =  \\gamma k_\\beta x_0\\cos(k_\\beta z)$$\n",
    "\n",
    "So:\n",
    "\n",
    "$$\\dfrac{p_0}{x_0} = \\gamma k_\\beta = \\frac{\\gamma}{\\sqrt{2\\gamma}}\\frac{\\omega_p}{c} = \\sqrt{\\frac{\\gamma}{2}} \\sqrt{\\frac{n_{entrance}}{n_0}}\\frac{\\omega_{p0}}{c}$$\n",
    "\n",
    "For $\\gamma = 20000$, $n_{entrance}/n_0 = 0.01$, $p_0 / x_0 = 10 \\omega_{p0} / c$"
   ]
  },
  {
   "cell_type": "code",
   "execution_count": null,
   "metadata": {},
   "outputs": [],
   "source": [
    "x = np.array([])\n",
    "px = np.array([])\n",
    "\n",
    "x0 = sigma_mi\n",
    "p0 = emittance / sigma_mi\n",
    "N = 1000\n",
    "multipliers = [0.1,0.3,0.5,1,2,3]\n",
    "\n",
    "for multiplier in multipliers:\n",
    "    x_ring,px_ring = phase_space_rings_init(x_max = x0 * multiplier,px_max = p0 * multiplier, N = N)\n",
    "    x = np.hstack((x,x_ring))\n",
    "    px = np.hstack((px,px_ring))\n",
    "\n",
    "gamma = [gamma_mean] * len(x)"
   ]
  },
  {
   "cell_type": "markdown",
   "metadata": {},
   "source": [
    "#### Optional: propagate in vacuum to transform rings to tilted"
   ]
  },
  {
   "cell_type": "code",
   "execution_count": null,
   "metadata": {},
   "outputs": [],
   "source": [
    "gamma_i = (1 + alpha_i ** 2) / beta_i\n",
    "z_relative_to_vacuum_focus = - alpha_i / gamma_i\n",
    "x = x + px / gamma * z_relative_to_vacuum_focus"
   ]
  },
  {
   "cell_type": "markdown",
   "metadata": {},
   "source": [
    "### Method 3: Manually initialize beam particles"
   ]
  },
  {
   "cell_type": "code",
   "execution_count": null,
   "metadata": {},
   "outputs": [],
   "source": [
    "x = [0.001,0.002,0.005,0.01,0.02,0.05,0.1,0.2,0.5,1.0]\n",
    "px = [0] * len(x)\n",
    "gamma = [20000] * len(x)\n",
    "y = [2]\n",
    "py = [0]"
   ]
  },
  {
   "cell_type": "markdown",
   "metadata": {},
   "source": [
    "### Save initial particle coordinates $(x,p_x,y,p_y,\\gamma)$ to input file"
   ]
  },
  {
   "cell_type": "code",
   "execution_count": null,
   "metadata": {},
   "outputs": [],
   "source": [
    "save_particle_coordinates(x,px,gamma,x,px)"
   ]
  },
  {
   "cell_type": "markdown",
   "metadata": {},
   "source": [
    "### Sanity check: Plot beam particles' phase space from input file"
   ]
  },
  {
   "cell_type": "code",
   "execution_count": null,
   "metadata": {},
   "outputs": [],
   "source": [
    "plot_init_phase_space(path = 'sp_input.json')"
   ]
  },
  {
   "cell_type": "markdown",
   "metadata": {},
   "source": [
    "# Ion model (or custom focusing model) and acceleration model\n",
    "\n",
    "### Set and save parameters to input file \n",
    "( input_file['plasma']['s'], input_file['acc_model']['s'], input_file['ion_model']['s'] must have the same first element and last element )"
   ]
  },
  {
   "cell_type": "code",
   "execution_count": null,
   "metadata": {},
   "outputs": [],
   "source": [
    "input_file = load_json_file('sp_input.json')\n",
    "\n",
    "input_file['simulation']['transverse_motion_model'] = \"ion\"\n",
    "\n",
    "\n",
    "input_file['acc_model']['s'] = [0,s[-1]]\n",
    "input_file['acc_model']['gamma_gain'] = [0,0]\n",
    "\n",
    "input_file['ion_model']['type'] = \"Gaussian\"\n",
    "input_file['ion_model']['s'] = [0,s[-1]]\n",
    "input_file['ion_model']['A'] = [0,0]\n",
    "input_file['ion_model']['sig_i'] = [1,1]\n",
    "input_file['diag']['delta_s_dump'] = 100\n",
    "\n",
    "save_to_json_file(input_file,'sp_input.json')"
   ]
  },
  {
   "cell_type": "markdown",
   "metadata": {},
   "source": [
    "### Optional: Set acceleration model from QPAD result"
   ]
  },
  {
   "cell_type": "code",
   "execution_count": null,
   "metadata": {},
   "outputs": [],
   "source": [
    "# Set model parameters from data analysis of QPAD simulation\n",
    "parameters = load_json_file('../JupyterQpic/whole_beam/beam2')\n",
    "\n",
    "s_acc_model = parameters['s']\n",
    "gamma_QPAD = parameters['energy']\n",
    "if s[-1] > s_acc_model[-1]:\n",
    "    s_acc_model = s_acc_model + [s[-1]]\n",
    "    gamma_QPAD = gamma_QPAD + [gamma_QPAD[-1]]\n",
    "\n",
    "gamma_gain = np.array(gamma_QPAD) - gamma_QPAD[0]\n",
    "\n",
    "\n",
    "\n",
    "input_file = load_json_file('sp_input.json')\n",
    "\n",
    "input_file['acc_model']['s'] = list(s_acc_model)\n",
    "input_file['acc_model']['gamma_gain'] = list(gamma_gain)\n",
    "\n",
    "save_to_json_file(input_file,'sp_input.json')\n",
    "\n",
    "\n",
    "\n",
    "# dic2 = load_json_file('../JupyterQpic/ion_density_transverse_lineout/ion_density_transverse_lineout_xi=0/ion_collapse_gaussian_fit.json')\n",
    "# dic2.keys()\n",
    "\n",
    "# s_ion_model = list(dic2['A_fit'].keys())\n",
    "# A = [dic2['A_fit'][i] for i in s_ion_model]\n",
    "# sig_i = [dic2['sigma_ion_fit'][i] for i in s_ion_model]\n",
    "# s_ion_model = [int(i) for i in s_ion_model]\n",
    "# s_ion_model = [0] + s_ion_model + [s[-1]]\n",
    "# A = [0] + A + [A[-1]]\n",
    "# sig_i = [sig_i[0]] + sig_i + [sig_i[-1]]"
   ]
  },
  {
   "cell_type": "code",
   "execution_count": null,
   "metadata": {},
   "outputs": [],
   "source": [
    "plt.figure(1)\n",
    "plt.plot(s_ion_model,A)\n",
    "\n",
    "plt.figure(2)\n",
    "plt.plot(s_ion_model,sig_i)\n",
    "\n",
    "plt.figure(3)\n",
    "plt.plot(s_acc_model,gamma_gain)\n",
    "plt.show()"
   ]
  },
  {
   "cell_type": "markdown",
   "metadata": {},
   "source": [
    "### Optional: Set focusing field model from QPAD result"
   ]
  },
  {
   "cell_type": "code",
   "execution_count": null,
   "metadata": {},
   "outputs": [],
   "source": [
    "xi = 1.5\n",
    "dt = 10\n",
    "timeSteps = np.arange(0,7020,20)"
   ]
  },
  {
   "cell_type": "code",
   "execution_count": null,
   "metadata": {},
   "outputs": [],
   "source": [
    "for i in range(len(timeSteps)):\n",
    "        \n",
    "    timeStep = timeSteps[i]\n",
    "\n",
    "    r, Er = get_lineout(filename = '../Fields/Er/Re0/er_'+str(timeStep).zfill(8)+'.h5',\\\n",
    "                          direction = 'transverse',lineout_pos = xi,code = 'QPAD')\n",
    "    _, Bphi = get_lineout(filename = '../Fields/Bphi/Re0/bphi_'+str(timeStep).zfill(8)+'.h5',\\\n",
    "                          direction = 'transverse',lineout_pos = xi,code = 'QPAD')\n",
    "    assert(len(Er)==len(Bphi))\n",
    "    Fr = Er - Bphi\n",
    "    \n",
    "    if i == 0:\n",
    "        if s[-1] > timeSteps[-1] * dt:\n",
    "            Fr_all = np.zeros((len(timeSteps)+1,len(Fr)))\n",
    "        else:\n",
    "            Fr_all = np.zeros((len(timeSteps),len(Fr)))\n",
    "    Fr_all[i,:] = Fr\n",
    "\n",
    "input_file = load_json_file('sp_input.json')\n",
    "\n",
    "input_file['simulation']['transverse_motion_model'] = \"focusing_field\"\n",
    "input_file['focusing_field_model'] = {}\n",
    "input_file['focusing_field_model']['ff'] = Fr_all.tolist()\n",
    "if s[-1] > timeSteps[-1] * dt:\n",
    "    input_file['focusing_field_model']['s'] = (timeSteps * dt).tolist() + [s[-1]]\n",
    "else:\n",
    "    input_file['focusing_field_model']['s'] = (timeSteps * dt).tolist()\n",
    "input_file['focusing_field_model']['r'] = r.tolist()\n",
    "\n",
    "save_to_json_file(input_file,'sp_input.json')"
   ]
  },
  {
   "cell_type": "markdown",
   "metadata": {},
   "source": [
    "### Sanity check: Plot the focusing field from 2d ($s,r$) interpolation "
   ]
  },
  {
   "cell_type": "code",
   "execution_count": null,
   "metadata": {},
   "outputs": [],
   "source": [
    "s_eval = 35000\n",
    "r_max = 1\n",
    "\n",
    "input_file = load_json_file('sp_input.json')\n",
    "\n",
    "s_ff = np.array(input_file['focusing_field_model']['s'])\n",
    "r_ff = np.array(input_file['focusing_field_model']['r'])\n",
    "\n",
    "ff_ff = np.array(input_file['focusing_field_model']['ff'])\n",
    "\n",
    "ff_model = interpolate.interp2d(s_ff, r_ff, ff_ff.T)\n",
    "\n",
    "\n",
    "r = np.arange(0,r_max,0.001)\n",
    "ff = ff_model([s_eval], r)\n",
    "plt.plot(r,ff)\n",
    "#plt.plot(r,r/2,'--')\n",
    "plt.xlabel('$r$')\n",
    "plt.ylabel('$F_r$')\n",
    "plt.show()"
   ]
  },
  {
   "cell_type": "code",
   "execution_count": null,
   "metadata": {},
   "outputs": [],
   "source": [
    "# s_idx = 300\n",
    "# r_idx = 57\n",
    "\n",
    "# print(ff_ff[s_idx][r_idx])\n",
    "\n",
    "# s_eval = s_ff[s_idx]\n",
    "# r_eval = [r_ff[r_idx]]\n",
    "# ff_eval = ff_model(s_eval, r_eval)\n",
    "# print(ff_eval)"
   ]
  }
 ],
 "metadata": {
  "kernelspec": {
   "display_name": "Python 3 (ipykernel)",
   "language": "python",
   "name": "python3"
  },
  "language_info": {
   "codemirror_mode": {
    "name": "ipython",
    "version": 3
   },
   "file_extension": ".py",
   "mimetype": "text/x-python",
   "name": "python",
   "nbconvert_exporter": "python",
   "pygments_lexer": "ipython3",
   "version": "3.12.6"
  }
 },
 "nbformat": 4,
 "nbformat_minor": 4
}
