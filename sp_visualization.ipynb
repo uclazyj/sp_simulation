{
 "cells": [
  {
   "cell_type": "markdown",
   "metadata": {},
   "source": [
    "# Data analysis for single particle simulation"
   ]
  },
  {
   "cell_type": "code",
   "execution_count": null,
   "metadata": {},
   "outputs": [],
   "source": [
    "import numpy as np\n",
    "import matplotlib.pyplot as plt\n",
    "import os\n",
    "from scipy import interpolate\n",
    "from utils import *\n",
    "\n",
    "%load_ext autoreload\n",
    "%autoreload 2\n",
    "\n",
    "plt.rcParams.update({'font.size': 16})\n",
    "\n",
    "def gaussian(x, A, sig):\n",
    "    return A * np.exp(-x**2 / 2 / sig ** 2)\n",
    "\n",
    "def plot_traj(x,px,s,plot_plasma_density = False):\n",
    "    if plot_plasma_density:\n",
    "        fig, (ax1, ax2, ax3, ax4) = plt.subplots(1, 4,figsize=(20, 4))\n",
    "    else: \n",
    "        fig, (ax1, ax2, ax3) = plt.subplots(1, 3,figsize=(15, 4))\n",
    "    ax1.plot(x,px)\n",
    "    ax1.set_xlabel('$x\\;\\;(c/\\omega_{p0})$')\n",
    "    ax1.set_ylabel('$p_x$')\n",
    "    ax2.plot(s, x)\n",
    "    ax2.set_xlabel('$z\\;\\;(c/\\omega_{p0})$')\n",
    "    ax2.set_ylabel('$x\\;\\;(c/\\omega_{p0})$')\n",
    "    ax3.plot(s, px)\n",
    "    ax3.set_xlabel('$z\\;\\;(c/\\omega_{p0})$')\n",
    "    ax3.set_ylabel('$p_x$')\n",
    "    \n",
    "    if plot_plasma_density:\n",
    "        with open('sp_input.json') as f:\n",
    "            input_file = json.load(f,object_pairs_hook=OrderedDict)\n",
    "        s_input = input_file['plasma']['s']\n",
    "        fs_input = input_file['plasma']['fs']\n",
    "        ax4.plot(s_input,fs_input)\n",
    "        ax4.set_xlabel('$z\\;\\;(c/\\omega_{p0})$')\n",
    "        ax4.set_ylabel('$n(z) / n_0$')\n",
    "        for i in [s[0],s[-1]]:\n",
    "            ax4.axvline(x=i,color = 'r',linestyle = '--')\n",
    "            \n",
    "    fig.tight_layout()\n",
    "    plt.show()\n",
    "\n",
    "data_analysis_savedir = 'sp_data_analysis'\n",
    "if not os.path.isdir(data_analysis_savedir):\n",
    "    os.mkdir(data_analysis_savedir)"
   ]
  },
  {
   "cell_type": "markdown",
   "metadata": {},
   "source": [
    "## Load data from input file and output file"
   ]
  },
  {
   "cell_type": "code",
   "execution_count": null,
   "metadata": {},
   "outputs": [],
   "source": [
    "input_file = load_json_file('sp_input.json')\n",
    "dimension = input_file['simulation']['dimension']\n",
    "delta_s_dump = input_file['diag']['delta_s_dump']\n",
    "gamma_init = np.mean(input_file['beam']['gamma'])\n",
    "\n",
    "\n",
    "output_file = load_json_file('sp_output.json')\n",
    "x_all = np.array(output_file['x'])\n",
    "px_all = np.array(output_file['px'])\n",
    "if dimension == 2:\n",
    "    y_all = np.array(output_file['y'])\n",
    "    py_all = np.array(output_file['py'])\n",
    "s = np.array(output_file['s'])\n",
    "fs = np.array(output_file['fs'])\n",
    "gamma_gain = np.array(output_file['gamma_gain'])\n",
    "gamma_s = gamma_init + gamma_gain\n",
    "A = np.array(output_file['A'])\n",
    "sig_i = np.array(output_file['sig_i'])\n",
    "\n",
    "print(x_all.shape)"
   ]
  },
  {
   "cell_type": "code",
   "execution_count": null,
   "metadata": {},
   "outputs": [],
   "source": [
    "plt.plot(s,fs)\n",
    "plt.xlabel('$z\\;\\;(c/\\omega_{p0})$')\n",
    "plt.ylabel('$n(z) / n_0$')\n",
    "plt.savefig(data_analysis_savedir + '/plasma_density_profile.png',bbox_inches = 'tight',facecolor='w')\n",
    "plt.show()\n",
    "print(max(fs))"
   ]
  },
  {
   "cell_type": "markdown",
   "metadata": {},
   "source": [
    "## 1. Single particle trajectory analysis\n",
    "### Select the particle index"
   ]
  },
  {
   "cell_type": "code",
   "execution_count": null,
   "metadata": {},
   "outputs": [],
   "source": [
    "idx = 0"
   ]
  },
  {
   "cell_type": "markdown",
   "metadata": {},
   "source": [
    "### The entire trajectory:"
   ]
  },
  {
   "cell_type": "code",
   "execution_count": null,
   "metadata": {},
   "outputs": [],
   "source": [
    "x = x_all[idx]\n",
    "px = px_all[idx]\n",
    "\n",
    "plot_traj(x,px,s)"
   ]
  },
  {
   "cell_type": "markdown",
   "metadata": {},
   "source": [
    "### Select a section of the trajectory"
   ]
  },
  {
   "cell_type": "code",
   "execution_count": null,
   "metadata": {},
   "outputs": [],
   "source": [
    "idx_start = -30000\n",
    "idx_end = -1"
   ]
  },
  {
   "cell_type": "code",
   "execution_count": null,
   "metadata": {},
   "outputs": [],
   "source": [
    "x_section = x[idx_start:idx_end]\n",
    "px_section = px[idx_start:idx_end]\n",
    "s_section = s[idx_start:idx_end]\n",
    "\n",
    "plot_traj(x_section,px_section,s_section)"
   ]
  },
  {
   "cell_type": "markdown",
   "metadata": {},
   "source": [
    "### Extract one period and get phase space area (action)"
   ]
  },
  {
   "cell_type": "code",
   "execution_count": null,
   "metadata": {},
   "outputs": [],
   "source": [
    "x_one_period,px_one_period,s_one_period = get_one_period(x_section,px_section,s_section)\n",
    "plot_traj(x_one_period,px_one_period,s_one_period)\n",
    "print('The period is:',s_one_period[-1] - s_one_period[0])\n",
    "print('The action is:',get_action(x_one_period,px_one_period))"
   ]
  },
  {
   "cell_type": "markdown",
   "metadata": {},
   "source": [
    "### Plot periodic motion in different parts"
   ]
  },
  {
   "cell_type": "code",
   "execution_count": null,
   "metadata": {},
   "outputs": [],
   "source": [
    "idx_start1 = 0\n",
    "idx_end1 = 30000\n",
    "\n",
    "x_section1 = x[idx_start1:idx_end1]\n",
    "px_section1 = px[idx_start1:idx_end1]\n",
    "s_section1 = s[idx_start1:idx_end1]\n",
    "\n",
    "x_one_period1,px_one_period1,s_one_period1 = get_one_period(x_section1,px_section1,s_section1)\n",
    "\n",
    "plot_traj(x_one_period1,px_one_period1,s_one_period1,True)\n",
    "\n",
    "print('The action is:',get_action(x_one_period1,px_one_period1))"
   ]
  },
  {
   "cell_type": "code",
   "execution_count": null,
   "metadata": {},
   "outputs": [],
   "source": [
    "idx_start2 = 58000\n",
    "idx_end2 = 68000\n",
    "\n",
    "x_section2 = x[idx_start2:idx_end2]\n",
    "px_section2 = px[idx_start2:idx_end2]\n",
    "s_section2 = s[idx_start2:idx_end2]\n",
    "\n",
    "x_one_period2,px_one_period2,s_one_period2 = get_one_period(x_section2,px_section2,s_section2)\n",
    "\n",
    "plot_traj(x_one_period2,px_one_period2,s_one_period2,True)\n",
    "\n",
    "print('The action is:',get_action(x_one_period2,px_one_period2))"
   ]
  },
  {
   "cell_type": "code",
   "execution_count": null,
   "metadata": {},
   "outputs": [],
   "source": [
    "idx_start3 = -30000\n",
    "idx_end3 = -1\n",
    "\n",
    "x_section3 = x[idx_start3:idx_end3]\n",
    "px_section3 = px[idx_start3:idx_end3]\n",
    "s_section3 = s[idx_start3:idx_end3]\n",
    "\n",
    "x_one_period3,px_one_period3,s_one_period3 = get_one_period(x_section3,px_section3,s_section3)\n",
    "\n",
    "plot_traj(x_one_period3,px_one_period3,s_one_period3,True)\n",
    "\n",
    "print('The action is:',get_action(x_one_period3,px_one_period3))"
   ]
  },
  {
   "cell_type": "code",
   "execution_count": null,
   "metadata": {},
   "outputs": [],
   "source": [
    "plt.plot(x_one_period1,px_one_period1,\n",
    "         label = str(int(s_one_period1[0])) + ' < s <' + str(int(s_one_period1[-1])) \n",
    "         + r'$,\\lambda_\\beta = $' + str(int(s_one_period1[-1]-s_one_period1[0])))\n",
    "plt.plot(x_one_period2,px_one_period2,\n",
    "         label = str(int(s_one_period2[0])) + ' < s <' + str(int(s_one_period2[-1])) \n",
    "         + r'$,\\lambda_\\beta = $' + str(int(s_one_period2[-1]-s_one_period2[0])))\n",
    "plt.plot(x_one_period3,px_one_period3,\n",
    "         label = str(int(s_one_period3[0])) + ' < s <' + str(int(s_one_period3[-1])) \n",
    "         + r'$,\\lambda_\\beta = $' + str(int(s_one_period3[-1]-s_one_period3[0])))\n",
    "plt.legend(loc = (1.04,0))\n",
    "plt.xlabel('$x\\;\\;(c/\\omega_{p0})$')\n",
    "plt.ylabel('$p_x$')\n",
    "plt.show()"
   ]
  },
  {
   "cell_type": "markdown",
   "metadata": {},
   "source": [
    "### Get the final $\\lambda_\\beta$ and action"
   ]
  },
  {
   "cell_type": "code",
   "execution_count": null,
   "metadata": {},
   "outputs": [],
   "source": [
    "idx_start = -30000\n",
    "idx_end = -1\n",
    "N = len(x_all)\n",
    "x_init_all = x_all[:,0]\n",
    "lambda_beta_all = []\n",
    "J_all = []\n",
    "for idx in range(N):\n",
    "    x = np.array(x_all[idx])\n",
    "    px = np.array(px_all[idx])\n",
    "    x_section = x[idx_start:idx_end]\n",
    "    px_section = px[idx_start:idx_end]\n",
    "    s_section = s[idx_start:idx_end]\n",
    "    x_one_period,px_one_period,s_one_period = get_one_period(x_section,px_section,s_section)\n",
    "    lambda_beta = s_one_period[-1] - s_one_period[0]\n",
    "    lambda_beta_all.append(lambda_beta)\n",
    "    J = get_action(x_one_period,px_one_period)\n",
    "    J_all.append(J)"
   ]
  },
  {
   "cell_type": "code",
   "execution_count": null,
   "metadata": {},
   "outputs": [],
   "source": [
    "plt.figure(1)\n",
    "plt.plot(x_init_all,lambda_beta_all,'-o')\n",
    "plt.xlabel('$x_{init}$')\n",
    "plt.ylabel(r'$\\lambda_\\beta$')\n",
    "plt.show()\n",
    "\n",
    "plt.figure(2)\n",
    "plt.plot(x_init_all,J_all,'-o')\n",
    "plt.xlabel('$x_{init}$')\n",
    "plt.ylabel('$J$')\n",
    "plt.show()"
   ]
  },
  {
   "cell_type": "code",
   "execution_count": null,
   "metadata": {},
   "outputs": [],
   "source": [
    "data_save = {}\n",
    "data_save['lambda_beta'] = lambda_beta_all\n",
    "data_save['action'] = J_all\n",
    "\n",
    "save_to_json_file(data_save,'lambda_and_action.json')"
   ]
  },
  {
   "cell_type": "markdown",
   "metadata": {},
   "source": [
    "## 2. Particle phase space ring analysis"
   ]
  },
  {
   "cell_type": "code",
   "execution_count": null,
   "metadata": {},
   "outputs": [],
   "source": [
    "### some auxiliary calculation\n",
    "emittance_init = np.sqrt(x_all[:,0].std() **2 * px_all[:,0].std() ** 2 - np.mean(x_all[:,0] * px_all[:,0]) **2)\n",
    "emitgeo_init = emittance_init / gamma_init\n",
    "beta_m0 = np.sqrt(2 * gamma_init)\n",
    "sigma_m0 = np.sqrt(beta_m0 * emitgeo_init)\n",
    "\n",
    "sigma_m = sigma_m0 / fs ** (1/4) * (gamma_init / gamma_s) ** (1/4)\n",
    "sigma_p_m = emittance_init / sigma_m"
   ]
  },
  {
   "cell_type": "markdown",
   "metadata": {},
   "source": [
    "### Plot the evolution of phase space rings"
   ]
  },
  {
   "cell_type": "code",
   "execution_count": null,
   "metadata": {
    "tags": []
   },
   "outputs": [],
   "source": [
    "idx_ranges = [[800,1000],[1000,1200],[1200,1400],[1400,1600]]\n",
    "timeSteps = list(range(x_all.shape[1]))\n",
    "normalize = True\n",
    "# ========================================\n",
    "if normalize:\n",
    "    savedir = data_analysis_savedir + '/normalized_phase_space_particle_idx_[' + str(idx_ranges[0][0]) + ','+ str(idx_ranges[-1][-1]) + ')'\n",
    "else:\n",
    "    savedir = data_analysis_savedir + '/phase_space_particle_idx_[' + str(idx_ranges[0][0]) + ','+ str(idx_ranges[-1][-1]) + ')'\n",
    "if not os.path.isdir(savedir):\n",
    "    os.mkdir(savedir)\n",
    "\n",
    "\n",
    "for i,timeStep in enumerate(timeSteps):\n",
    "    for j in range(len(idx_ranges)):\n",
    "        idx_start,idx_end = idx_ranges[j]\n",
    "        x_ring = x_all[idx_start:idx_end,timeStep]\n",
    "        px_ring = px_all[idx_start:idx_end,timeStep]\n",
    "        color = 'C' + str(j)\n",
    "    \n",
    "        if normalize:\n",
    "            plt.scatter(x_ring / sigma_m[i],px_ring / sigma_p_m[i],s=1,color=color)\n",
    "            plt.xlabel(r'$x \\;\\;[(2/\\gamma_i)^{1/4} (\\epsilon_{ni} c/\\omega_{p})^{1/2}]$')\n",
    "            plt.ylabel(r'$p_x \\;\\;[(\\gamma_i/2)^{1/4} (\\epsilon_{ni} \\omega_{p}/c)^{1/2}]$')  \n",
    "            plt.axis('square')\n",
    "            plt.xlim([-8,8])\n",
    "            plt.ylim([-8,8])\n",
    "            plt.xticks(ticks=[-8,-4,0,4,8])\n",
    "            plt.yticks(ticks=[-8,-4,0,4,8])\n",
    "        else:\n",
    "            plt.scatter(x_ring,px_ring,s=1,color=color)\n",
    "            plt.xlabel('$x\\;\\;(c/\\omega_{p0})$')\n",
    "            plt.ylabel('$p_x$')\n",
    "        \n",
    "    \n",
    "    plt.title('z = '+ str(timeStep * delta_s_dump) + r'$\\;\\;(c/\\omega_{p0})$' + r'$, n(z)/n_0 = $' + str(round(fs[i],3)))\n",
    "    plt.savefig(savedir + '/phase_space_' + str(timeStep).zfill(8) + '.png',bbox_inches = 'tight',facecolor='w')\n",
    "    plt.close()"
   ]
  },
  {
   "cell_type": "code",
   "execution_count": null,
   "metadata": {},
   "outputs": [],
   "source": [
    "particle_idx_start = 0\n",
    "particle_idx_end = 200\n",
    "timeStep = 0\n",
    "\n",
    "x_ring = x_all[particle_idx_start:particle_idx_end][:,timeStep]\n",
    "px_ring = px_all[particle_idx_start:particle_idx_end][:,timeStep]\n",
    "\n",
    "plt.scatter(x_ring,px_ring,s=1)\n",
    "plt.show()"
   ]
  },
  {
   "cell_type": "code",
   "execution_count": null,
   "metadata": {},
   "outputs": [],
   "source": [
    "vx_ring = px_ring / 20000\n",
    "lambda_beta = get_time(x_ring,vx_ring)\n",
    "action = abs(get_action(x_ring,px_ring))\n",
    "print('lambda_beta calculated from a phase space ring is:',lambda_beta)\n",
    "print('action calculated from a phase space ring is:',action)"
   ]
  },
  {
   "cell_type": "code",
   "execution_count": null,
   "metadata": {},
   "outputs": [],
   "source": [
    "timeSteps = list(range(0,int(s[-1])+1,2000)) \n",
    "# ==============================================\n",
    "from collections import defaultdict\n",
    "lambda_beta_from_ring = defaultdict(list)\n",
    "action_from_ring = defaultdict(list)\n",
    "# select a phase space ring\n",
    "for ring_idx in range(10):\n",
    "    particle_idx_start = ring_idx * 200\n",
    "    particle_idx_end = particle_idx_start + 200\n",
    "    x_ring_s = x_all[particle_idx_start:particle_idx_end]\n",
    "    px_ring_s = px_all[particle_idx_start:particle_idx_end]\n",
    "    # Select a time step\n",
    "    for timeStep in timeSteps:\n",
    "        x_ring = x_ring_s[:,timeStep]\n",
    "        px_ring = px_ring_s[:,timeStep]\n",
    "        vx_ring = px_ring / 20000  ### Careful: hard-coded! \n",
    "        lambda_beta = get_time(x_ring,vx_ring)\n",
    "        action = abs(get_action(x_ring,px_ring))\n",
    "        lambda_beta_from_ring[ring_idx].append(lambda_beta)\n",
    "        action_from_ring[ring_idx].append(action)\n",
    "\n",
    "save_to_json_file({'s':[delta_s_dump * timeStep for timeStep in timeSteps],\\\n",
    "                   'lambda_beta_from_ring':lambda_beta_from_ring,\\\n",
    "                   'action_from_ring':action_from_ring},data_analysis_savedir + '/lambda_and_action_from_ring.json')"
   ]
  },
  {
   "cell_type": "code",
   "execution_count": null,
   "metadata": {},
   "outputs": [],
   "source": [
    "data = load_json_file(data_analysis_savedir + '/lambda_and_action_from_ring.json')"
   ]
  },
  {
   "cell_type": "code",
   "execution_count": null,
   "metadata": {},
   "outputs": [],
   "source": [
    "ring_idx = '9'\n",
    "plt.figure(1)\n",
    "plt.plot(data['s'],data['lambda_beta_from_ring'][ring_idx],'-o')\n",
    "plt.xlabel('$z\\;\\;(c/\\omega_{p0})$')\n",
    "plt.ylabel(r'$\\lambda_\\beta$')\n",
    "\n",
    "plt.figure(2)\n",
    "plt.plot(data['s'],data['lambda_beta_from_ring'][ring_idx],'-o')\n",
    "plt.xlabel('$z\\;\\;(c/\\omega_{p0})$')\n",
    "plt.ylabel(r'$\\lambda_\\beta$')\n",
    "plt.show()"
   ]
  },
  {
   "cell_type": "markdown",
   "metadata": {},
   "source": [
    "## 3. Whole beam analysis"
   ]
  },
  {
   "cell_type": "code",
   "execution_count": null,
   "metadata": {},
   "outputs": [],
   "source": [
    "beam_data_x = beam_raw_data_analysis(x_all,px_all)\n",
    "if dimension == 2:\n",
    "    beam_data_y = beam_raw_data_analysis(y_all,py_all)\n",
    "beam_data_x.keys()"
   ]
  },
  {
   "cell_type": "code",
   "execution_count": null,
   "metadata": {},
   "outputs": [],
   "source": [
    "# Add comparison to QPAD simulation\n",
    "# parameters = load_json_file('../JupyterQpic/beam_slices/beam2_[-1.0,-0.5,0.0,0.5,1.0]_0.1')\n",
    "parameters = load_json_file('../JupyterQpic/beam_slices/beam2_[0.05,0.5,1.0,1.5,1.95]_0.05')\n",
    "parameters.keys()\n",
    "\n",
    "xi_slice = '1.5'\n",
    "parameters[xi_slice].keys()"
   ]
  },
  {
   "cell_type": "code",
   "execution_count": null,
   "metadata": {},
   "outputs": [],
   "source": [
    "normalized_to_initial_emittance = True\n",
    "compare_to_QPAD = False\n",
    "\n",
    "if normalized_to_initial_emittance:\n",
    "    plt.plot(s,np.array(beam_data_x['emittance'])/beam_data_x['emittance'][0],label = 'single particle simulation (x)')\n",
    "    if dimension == 2:\n",
    "        plt.plot(s,np.array(beam_data_y['emittance'])/beam_data_y['emittance'][0],'--',label = 'single particle simulation (y)')\n",
    "    if compare_to_QPAD:\n",
    "        plt.plot(parameters[xi_slice]['s'],np.array(parameters[xi_slice]['epsilon_n_x']) / parameters[xi_slice]['epsilon_n_x'][0],label = 'QPAD (x)')\n",
    "    plt.ylabel('$\\epsilon_n / \\epsilon_{ni}$')\n",
    "else:\n",
    "    plt.plot(s,beam_data_x['emittance'],label = 'single particle simulation (x)')\n",
    "    if dimension == 2:\n",
    "        plt.plot(s,beam_data_y['emittance'],label = 'single particle simulation (y)')\n",
    "    if compare_to_QPAD:\n",
    "        plt.plot(parameters[xi_slice]['s'],parameters[xi_slice]['epsilon_n_x'],label = 'QPAD (x)')\n",
    "    plt.ylabel('$\\epsilon_n \\;\\;(c/\\omega_{p0})$')\n",
    "    \n",
    "plt.xlabel('$z\\;\\;(c/\\omega_{p0})$')\n",
    "plt.legend(loc = (1.04,0))\n",
    "\n",
    "if normalized_to_initial_emittance:\n",
    "    plt.savefig(data_analysis_savedir + '/emittance_over_initial_emittance.png',bbox_inches = 'tight',facecolor='w')\n",
    "else:\n",
    "    plt.savefig(data_analysis_savedir + '/emittance.png',bbox_inches = 'tight',facecolor='w')\n",
    "\n",
    "plt.show()"
   ]
  },
  {
   "cell_type": "code",
   "execution_count": null,
   "metadata": {},
   "outputs": [],
   "source": [
    "plt.plot(s,beam_data_x['sigma'],label = 'single particle simulation (x)')\n",
    "if dimension == 2:\n",
    "    plt.plot(s,beam_data_y['sigma'],'--',label = 'single particle simulation (y)')\n",
    "plt.plot(s,sigma_m,'--',label = '$\\\\sigma_m$')\n",
    "if compare_to_QPAD:\n",
    "    plt.plot(parameters[xi_slice]['s'],parameters[xi_slice]['sigma_x'],'--',label = 'QPAD (x)')\n",
    "plt.xlabel('$z\\;\\;(c/\\omega_{p0})$')\n",
    "plt.ylabel('$\\\\sigma \\;\\;(c/\\omega_{p0})$')\n",
    "plt.legend(loc = (1.04,0))\n",
    "plt.savefig(data_analysis_savedir + '/sigma.png',bbox_inches = 'tight',facecolor='w')\n",
    "plt.show()"
   ]
  },
  {
   "cell_type": "code",
   "execution_count": null,
   "metadata": {},
   "outputs": [],
   "source": [
    "alpha_x = -np.array(beam_data_x['x_times_px_avg']) / np.array(beam_data_x['emittance'])\n",
    "plt.plot(s,alpha_x,label = 'single particle simulation (x)')\n",
    "if dimension == 2:\n",
    "    alpha_y = -np.array(beam_data_y['x_times_px_avg']) / np.array(beam_data_y['emittance'])\n",
    "    plt.plot(s,alpha_y,'--',label = 'single particle simulation (y)')\n",
    "if compare_to_QPAD:\n",
    "    plt.plot(parameters[xi_slice]['s'],parameters[xi_slice]['alpha_x'],'--',label = 'QPAD (x)')\n",
    "plt.xlabel('$z\\;\\;(c/\\omega_{p0})$')\n",
    "plt.ylabel('$\\\\alpha$')\n",
    "plt.legend(loc = (1.04,0))\n",
    "plt.savefig(data_analysis_savedir + '/alpha.png',bbox_inches = 'tight',facecolor='w')\n",
    "plt.show()"
   ]
  },
  {
   "cell_type": "markdown",
   "metadata": {},
   "source": [
    "## Phase space scatter plot"
   ]
  },
  {
   "cell_type": "code",
   "execution_count": null,
   "metadata": {},
   "outputs": [],
   "source": [
    "dir_save_phase_space = 'phase_space'\n",
    "\n",
    "if not os.path.isdir(dir_save_phase_space):\n",
    "    os.mkdir(dir_save_phase_space)\n",
    "    \n",
    "s_dump = input_file['diag']['delta_s_dump']\n",
    "\n",
    "epsilon_over_epsilon_init = np.array(beam_data_x['emittance'])/beam_data_x['emittance'][0]\n",
    "\n",
    "for i in range(x_all.shape[1]):\n",
    "    plt.scatter(x_all[:,i],px_all[:,i],s=1)\n",
    "    plt.xlabel(r'$x \\;\\;(c/\\omega_{p0})$')\n",
    "    plt.ylabel('$p_x$')\n",
    "    plt.title('z = ' + str(int(i * s_dump))+'$\\;\\;(c/\\omega_{p0})$' + '$,\\; \\epsilon_n / \\epsilon_{ni} = $' + str(round(epsilon_over_epsilon_init[i],3)))\n",
    "    plt.savefig(dir_save_phase_space + '/phase_space_s='+str(int(i * s_dump)).zfill(8)+'.png',bbox_inches = 'tight',facecolor='w')\n",
    "    plt.close()"
   ]
  },
  {
   "cell_type": "markdown",
   "metadata": {},
   "source": [
    "## Plot ion collapse model and acceleration model"
   ]
  },
  {
   "cell_type": "code",
   "execution_count": null,
   "metadata": {},
   "outputs": [],
   "source": [
    "savedir = data_analysis_savedir + '/ion_model'\n",
    "x = np.linspace(-0.1,0.1,100)\n",
    "s_dump = np.arange(x_all.shape[1]) * delta_s_dump\n",
    "\n",
    "#######################################################\n",
    "\n",
    "if not os.path.isdir(savedir):\n",
    "    os.mkdir(savedir)\n",
    "\n",
    "for i in range(len(s_dump)):\n",
    "\n",
    "    fig, (ax1, ax2) = plt.subplots(1, 2,figsize=(15, 4))\n",
    "    ax1.plot(s,fs)\n",
    "    ax1.axvline(x=s_dump[i],linestyle = '--',color = 'r')\n",
    "    ax1.set_xlabel('$z\\;\\;(c/\\omega_{p0})$')\n",
    "    ax1.set_ylabel('$n(z) / n_0$')\n",
    "    ax1.set_title('z = ' + str(round(s[i])) + ', $n(z)/n_0 =$' + str(round(fs[i],4)))\n",
    "    \n",
    "    ni = fs[i] + gaussian(x, A[i], sig_i[i])\n",
    "    ax2.plot(x,ni)\n",
    "    ax2.set_xlabel('$x\\;\\;(c/\\omega_{p0})$')\n",
    "    ax2.set_ylabel('$n_i(x)$')\n",
    "    ax2.set_title('A = '+str(round(A[i],1)) + ', $\\\\sigma_{ion} =$' + str(round(sig_i[i],3)))\n",
    "    \n",
    "    plt.savefig(savedir + '/ion_collapse_model_z=' + str(round(s[i])).zfill(8) +'.png',bbox_inches = 'tight',facecolor='w')\n",
    "    # ax2.set_ylim([0,np.max(A)])\n",
    "    plt.close()"
   ]
  },
  {
   "cell_type": "code",
   "execution_count": null,
   "metadata": {},
   "outputs": [],
   "source": [
    "# A is normalized to plasma density at the density plateau\n",
    "plt.plot(s,A)\n",
    "plt.xlabel('$z\\;\\;(c/\\omega_{p0})$')\n",
    "plt.ylabel('$A \\;\\;(n_0)$')\n",
    "plt.savefig(data_analysis_savedir + '/A.png',bbox_inches = 'tight',facecolor='w')\n",
    "plt.show()"
   ]
  },
  {
   "cell_type": "code",
   "execution_count": null,
   "metadata": {},
   "outputs": [],
   "source": [
    "plt.plot(s,sig_i)\n",
    "plt.xlabel('$z\\;\\;(c/\\omega_{p0})$')\n",
    "plt.ylabel('$\\\\sigma_{ion} \\;\\;(c/\\omega_{p0})$')\n",
    "plt.savefig(data_analysis_savedir + '/sigma_ion.png',bbox_inches = 'tight',facecolor='w')\n",
    "plt.show()"
   ]
  },
  {
   "cell_type": "code",
   "execution_count": null,
   "metadata": {},
   "outputs": [],
   "source": [
    "plt.plot(s,gamma_s)\n",
    "plt.xlabel('$z\\;\\;(c/\\omega_{p0})$')\n",
    "plt.ylabel('$\\gamma$')\n",
    "plt.savefig(data_analysis_savedir + '/gamma.png',bbox_inches = 'tight',facecolor='w')\n",
    "plt.show()"
   ]
  },
  {
   "cell_type": "markdown",
   "metadata": {},
   "source": [
    "### Select a phase space contour from whole beam"
   ]
  },
  {
   "cell_type": "code",
   "execution_count": null,
   "metadata": {},
   "outputs": [],
   "source": [
    "# beta_init = beam_data_x['sigma'][0] ** 2 / (beam_data_x['emittance'][0] / gamma_init)\n",
    "# alpha_init = alpha_x[0]\n",
    "# gamma_Twiss_init = (1 + alpha_init ** 2) / beta_init\n",
    "# z_relative_to_vacuum_focus_init = - alpha_init / gamma_Twiss_init\n",
    "\n",
    "# beta_final = beam_data_x['sigma'][-1] ** 2 / (beam_data_x['emittance'][-1] / gamma_s[-1])\n",
    "# alpha_final = alpha_x[-1]\n",
    "# gamma_Twiss_final = (1 + alpha_final ** 2) / beta_final\n",
    "# z_relative_to_vacuum_focus_final = - alpha_final / gamma_Twiss_final"
   ]
  },
  {
   "cell_type": "code",
   "execution_count": null,
   "metadata": {},
   "outputs": [],
   "source": [
    "def propagate_to_vacuum_focus(x,px,gamma=1,alpha=None,beta=None,gamma_Twiss=None):\n",
    "    if alpha != None:\n",
    "        if gamma_Twiss == None:\n",
    "            if beta == None:\n",
    "                print('Wrong input! Return x and xp from input!')\n",
    "                return x,px\n",
    "            else:\n",
    "                gamma_Twiss = (1 + alpha ** 2) / beta\n",
    "                \n",
    "        z_relative_to_vacuum_focus = - alpha / gamma_Twiss\n",
    "        px_at_vacuume_focus = np.array(px)\n",
    "        x_at_vacuum_focus = x - px_at_vacuume_focus / gamma * z_relative_to_vacuum_focus\n",
    "        return x_at_vacuum_focus,px_at_vacuume_focus\n",
    "    else:\n",
    "        x = x - np.mean(x)\n",
    "        x_prime = px / gamma\n",
    "        x_prime = x_prime - np.mean(x_prime)\n",
    "        \n",
    "        x2_avg = np.mean(x ** 2)\n",
    "        x_prime2_avg = np.mean(x_prime ** 2)\n",
    "        x_times_x_prime_avg = np.mean(x * x_prime)\n",
    "        emitgeo_x = np.sqrt(x2_avg * x_prime2_avg - x_times_x_prime_avg ** 2)\n",
    "        \n",
    "        alpha = - x_times_x_prime_avg / emitgeo_x\n",
    "        gamma_Twiss = x_prime2_avg / emitgeo_x\n",
    "        \n",
    "        z_relative_to_vacuum_focus = - alpha / gamma_Twiss\n",
    "        px_at_vacuume_focus = np.array(px)\n",
    "        x_at_vacuum_focus = x - px_at_vacuume_focus / gamma * z_relative_to_vacuum_focus\n",
    "\n",
    "        return x_at_vacuum_focus,px_at_vacuume_focus"
   ]
  },
  {
   "cell_type": "code",
   "execution_count": null,
   "metadata": {},
   "outputs": [],
   "source": [
    "# R = 0.3\n",
    "dR = 0.01\n",
    "\n",
    "_,num_s_step = x_all.shape\n",
    "middle_s_step = num_s_step // 2\n",
    "last_s_step = num_s_step - 1\n",
    "\n",
    "\n",
    "for R in [1]:#[0.01,0.02,0.05,0.1,0.2,0.5,1,2]:\n",
    "\n",
    "    ### Select the particles on the same phase space contour\n",
    "    \n",
    "    ### If the initial alpha is not 0, we need to transform the tilted phase space ellipse into a horizontal & vertical phase space ellipse\n",
    "    ### so that x and x' are separable\n",
    "    \n",
    "    x_init_at_vacuum_focus, px_init_at_vacuum_focus = propagate_to_vacuum_focus(x_all[:,0],px_all[:,0],gamma = gamma_s[0])\n",
    "    x_init_at_vacuum_focus_normalized = x_init_at_vacuum_focus / sigma_m[0]\n",
    "    px_init_at_vacuum_focus_normalized = px_init_at_vacuum_focus / sigma_p_m[0]\n",
    "    \n",
    "    \n",
    "    x_middle_at_vacuum_focus, px_middle_at_vacuum_focus = propagate_to_vacuum_focus(x_all[:,middle_s_step],px_all[:,middle_s_step],gamma = gamma_s[middle_s_step])\n",
    "    x_middle_at_vacuum_focus_normalized = x_middle_at_vacuum_focus / sigma_m[middle_s_step]\n",
    "    px_middle_at_vacuum_focus_normalized = px_middle_at_vacuum_focus / sigma_p_m[middle_s_step]\n",
    "    \n",
    "    \n",
    "    x_final_at_vacuum_focus, px_final_at_vacuum_focus = propagate_to_vacuum_focus(x_all[:,-1],px_all[:,-1],gamma = gamma_s[-1])\n",
    "    x_final_at_vacuum_focus_normalized = x_final_at_vacuum_focus / sigma_m[-1]\n",
    "    px_final_at_vacuum_focus_normalized = px_final_at_vacuum_focus / sigma_p_m[-1]\n",
    "    \n",
    "    ### Select particles belong to the same ring\n",
    "\n",
    "    normalized_phase_space_radius_init = np.sqrt(x_init_at_vacuum_focus_normalized ** 2 + px_init_at_vacuum_focus_normalized ** 2)\n",
    "    in_ring = (normalized_phase_space_radius_init < (R + dR)) & (normalized_phase_space_radius_init > (R - dR))\n",
    "    \n",
    "\n",
    "    ### Plot the particles on this contour at the beginning, in the middle, and at the end\n",
    "\n",
    "    fig, ((ax1,ax2,ax3),(ax4,ax5,ax6)) = plt.subplots(2, 3,figsize=(18, 10))\n",
    "\n",
    "    ax1.scatter(x_all[in_ring,0],px_all[in_ring,0],s=1) \n",
    "    ax1.set_xlabel('$x \\; (c/\\omega_{p0})$')\n",
    "    ax1.set_ylabel('$p_x$')\n",
    "    ax1.set_title('$s = 0 \\;\\; (c/\\omega_{p0})$')\n",
    "    \n",
    "    ax2.scatter(x_all[in_ring,middle_s_step],px_all[in_ring,middle_s_step],s=1) \n",
    "    ax2.set_xlabel('$x \\; (c/\\omega_{p0})$')\n",
    "    ax2.set_ylabel('$p_x$')\n",
    "    ax2.set_title('$s = $' + str(int(middle_s_step * delta_s_dump)) + '$ \\;\\; (c/\\omega_{p0})$')\n",
    "    \n",
    "    ax3.scatter(x_all[in_ring,last_s_step],px_all[in_ring,last_s_step],s=1) \n",
    "    ax3.set_xlabel('$x \\; (c/\\omega_{p0})$')\n",
    "    ax3.set_ylabel('$p_x$')\n",
    "    ax3.set_title('$s = $' + str(int(last_s_step * delta_s_dump)) + '$ \\;\\; (c/\\omega_{p0})$')\n",
    "\n",
    "    ax4.scatter(x_init_at_vacuum_focus_normalized[in_ring],px_init_at_vacuum_focus_normalized[in_ring],s=1) \n",
    "    ax4.set_xlabel('$x_{vf}/\\\\sigma_m$')\n",
    "    ax4.set_ylabel('$p_{x,vf} / \\\\sigma_{pm}$')\n",
    "    ax4.set_title('$s = 0 \\;\\; (c/\\omega_{p0})$')\n",
    "    \n",
    "    ax5.scatter(x_middle_at_vacuum_focus_normalized[in_ring],px_middle_at_vacuum_focus_normalized[in_ring],s=1) \n",
    "    ax5.set_xlabel('$x_{vf}/\\\\sigma_m$')\n",
    "    ax5.set_ylabel('$p_{x,vf} / \\\\sigma_{pm}$')\n",
    "    ax5.set_title('$s = $' + str(int(middle_s_step * delta_s_dump)) + '$ \\;\\; (c/\\omega_{p0})$')\n",
    "\n",
    "    ax6.scatter(x_final_at_vacuum_focus_normalized[in_ring],px_final_at_vacuum_focus_normalized[in_ring],s=1) \n",
    "    ax6.set_xlabel('$x_{vf}/\\\\sigma_m$')\n",
    "    ax6.set_ylabel('$p_{x,vf} / \\\\sigma_{pm}$')\n",
    "    ax6.set_title('$s = $' + str(int(last_s_step * delta_s_dump)) + '$ \\;\\; (c/\\omega_{p0})$')\n",
    "    \n",
    "\n",
    "    if not os.path.isdir(data_analysis_savedir + '/phase_space_rings'):\n",
    "        os.mkdir(data_analysis_savedir + '/phase_space_rings')\n",
    "\n",
    "    plt.tight_layout()\n",
    "    plt.savefig(data_analysis_savedir + '/phase_space_rings/R='+str(R)+'_dR='+str(dR)+'.png',bbox_inches = 'tight',facecolor='w')\n",
    "\n",
    "    plt.show()"
   ]
  },
  {
   "cell_type": "code",
   "execution_count": null,
   "metadata": {},
   "outputs": [],
   "source": [
    "    # x_ring_init_normalized = x_all_ring[:,0] / sigma_m[0]\n",
    "    # px_ring_init_normalized = px_all_ring[:,0] / sigma_p_m[0]\n",
    "\n",
    "    # R_ring_init = np.sqrt(x_ring_init_normalized ** 2 + px_ring_init_normalized ** 2)\n",
    "    # R_mean_init = np.mean(R_ring_init)\n",
    "    # R_std_init = np.std(R_ring_init)\n",
    "    \n",
    "    \n",
    "    # ax4.set_title('$\\\\bar R = $'+str(round(R_mean_init,3)) + '$,\\\\sigma_R = $' + str(round(R_std_init,3)) + '\\n'+ \\\n",
    "    #              '$s = 0 \\;\\; (c/\\omega_{p0})$')\n",
    "\n",
    "    # R_ring_last = np.sqrt(x_ring_last_normalized ** 2 + px_ring_last_normalized ** 2)\n",
    "    # R_mean_last = np.mean(R_ring_last)\n",
    "    # R_std_last = np.std(R_ring_last)"
   ]
  }
 ],
 "metadata": {
  "kernelspec": {
   "display_name": "NERSC Python",
   "language": "python",
   "name": "python3"
  },
  "language_info": {
   "codemirror_mode": {
    "name": "ipython",
    "version": 3
   },
   "file_extension": ".py",
   "mimetype": "text/x-python",
   "name": "python",
   "nbconvert_exporter": "python",
   "pygments_lexer": "ipython3",
   "version": "3.9.7"
  }
 },
 "nbformat": 4,
 "nbformat_minor": 4
}
